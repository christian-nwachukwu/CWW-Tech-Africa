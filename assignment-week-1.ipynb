{
  "nbformat": 4,
  "nbformat_minor": 0,
  "metadata": {
    "colab": {
      "provenance": [],
      "toc_visible": true,
      "authorship_tag": "ABX9TyOYGvHPSGkCXBw5t7u2mV5g",
      "include_colab_link": true
    },
    "kernelspec": {
      "name": "python3",
      "display_name": "Python 3"
    },
    "language_info": {
      "name": "python"
    }
  },
  "cells": [
    {
      "cell_type": "markdown",
      "metadata": {
        "id": "view-in-github",
        "colab_type": "text"
      },
      "source": [
        "<a href=\"https://colab.research.google.com/github/christian-nwachukwu/CWW-Tech-Africa/blob/main/assignment-week-1.ipynb\" target=\"_parent\"><img src=\"https://colab.research.google.com/assets/colab-badge.svg\" alt=\"Open In Colab\"/></a>"
      ]
    },
    {
      "cell_type": "code",
      "execution_count": 1,
      "metadata": {
        "colab": {
          "base_uri": "https://localhost:8080/"
        },
        "id": "-V4yO59VHv8e",
        "outputId": "47ac85d4-ea30-443a-c410-e822929c22d5"
      },
      "outputs": [
        {
          "output_type": "stream",
          "name": "stdout",
          "text": [
            "Wellness Activities\n",
            "Academic Tasks\n",
            "Extracurricular Activities\n",
            "Personal Tasks\n",
            "Wellness Activities\n",
            "Long-term Goals\n",
            "Time Buffers\n",
            "PRINT DICTIONARY\n",
            "\n",
            "{'Name': 'Christian Nwachukwu', 'Course': 'Python Programming', 'Institution': 'CWW Tech Africa', 'Status': 'In Progress', 'Skills': {'django framework', 'javascript', 'html', 'css', 'docker', 'python'}}\n",
            "\n",
            "\n",
            "List of Skills\n",
            "{'django framework', 'javascript', 'html', 'css', 'docker', 'python'}\n",
            "\n",
            "\n",
            "LOOP THROUGH DICTIONARY\n",
            "\n",
            "Name: Christian Nwachukwu\n",
            "Course: Python Programming\n",
            "Institution: CWW Tech Africa\n",
            "Status: In Progress\n",
            "Skills: {'django framework', 'javascript', 'html', 'css', 'docker', 'python'}\n",
            "[0, 1, 4, 9, 16, 25, 36, 49, 64, 81, 100, 121, 144, 169, 196, 225, 256, 289, 324, 361, 400, 441, 484, 529, 576, 625, 676, 729, 784, 841, 900, 961, 1024, 1089, 1156, 1225, 1296, 1369, 1444, 1521, 1600, 1681, 1764, 1849, 1936, 2025, 2116, 2209, 2304, 2401, 2500]\n"
          ]
        }
      ],
      "source": [
        "#Assignments\n",
        "#1\n",
        "todo_list = ['Academic Tasks', 'Extracurricular Activities', 'Personal Tasks',\n",
        " 'Wellness Activities', 'Long-term Goals', 'Time Buffers']\n",
        "\n",
        "print(todo_list[3])\n",
        "\n",
        "for task in todo_list:\n",
        "    print(task)\n",
        "\n",
        "\n",
        "#2\n",
        "# creating a dictionary\n",
        "print('PRINT DICTIONARY')\n",
        "my_bio = {\n",
        "  \"Name\": \"Christian Nwachukwu\",\n",
        "  \"Course\": \"Python Programming\",\n",
        "  \"Institution\": \"CWW Tech Africa\",\n",
        "  \"Status\": \"In Progress\",\n",
        "  \"Skills\": {'html', 'css', 'javascript', 'python', 'django framework', 'docker'}\n",
        "}\n",
        "print()\n",
        "# printing the dictionary\n",
        "print(my_bio)\n",
        "\n",
        "print()\n",
        "print()\n",
        "\n",
        "print('List of Skills')\n",
        "# print your skills\n",
        "print(my_bio['Skills'])\n",
        "\n",
        "print()\n",
        "print()\n",
        "\n",
        "print('LOOP THROUGH DICTIONARY')\n",
        "print()\n",
        "for key, value in my_bio.items():\n",
        "    print(f\"{key}: {value}\")\n",
        "\n",
        "\n",
        "\n",
        "#3\n",
        "# Using Lamda expressions\n",
        "numbers = range(51)\n",
        "new_list = list(map(lambda x: x**2, numbers))\n",
        "print(new_list)"
      ]
    }
  ]
}